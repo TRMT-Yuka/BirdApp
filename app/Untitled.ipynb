{
 "cells": [
  {
   "cell_type": "code",
   "execution_count": 1,
   "id": "1e81f871",
   "metadata": {},
   "outputs": [],
   "source": [
    "import csv\n",
    "with open('test.tsv', mode='r', newline='', encoding='utf-8') as f:\n",
    "    tsv = csv.DictReader(f, delimiter = '\\t')\n",
    "    read_data = [row for row in tsv]"
   ]
  },
  {
   "cell_type": "code",
   "execution_count": 2,
   "id": "e8e28984",
   "metadata": {},
   "outputs": [
    {
     "data": {
      "text/plain": [
       "[{'id': 'Q208335',\n",
       "  'en_name': 'Red Phalarope',\n",
       "  'ja_name': 'ハイイロヒレアシシギ',\n",
       "  'en_aliases': \"{'0': 'Red Phalarope', '1': 'Grey Phalarope'}\",\n",
       "  'ja_aliases': '{}',\n",
       "  'img_urls': \"{'0': 'https://www.wikidata.org/wiki/Q208335#/media/File:Phalaropus%20fulicarius%2010.jpg', '1': 'https://www.wikidata.org/wiki/Q208335#/media/File:Grey%20Phalarope.jpg'}\",\n",
       "  'taxon_rank': 'Q7432',\n",
       "  'taxon_name': 'Phalaropus fulicarius',\n",
       "  'parent_taxon': 'Q253776',\n",
       "  'BirdJPBookDB__data_audio_id': '2_72',\n",
       "  'BirdJPBookDB__data_birdname': 'ハイイロヒレアシシギ',\n",
       "  'BirdResearchDB_label01_32k_audio_id': '',\n",
       "  'BirdResearchDB_label01_32k_birdname': '',\n",
       "  'JP': '1',\n",
       "  'Research': '0'},\n",
       " {'id': 'Q206630',\n",
       "  'en_name': 'Ortolan Bunting',\n",
       "  'ja_name': 'ズアオホオジロ',\n",
       "  'en_aliases': \"{'0': 'Emberiza hortulana', '1': 'Ortolan Bunting'}\",\n",
       "  'ja_aliases': '{}',\n",
       "  'img_urls': \"{'0': 'https://www.wikidata.org/wiki/Q206630#/media/File:Ortolan%20bunting%20in%20Sierra%20de%20Guara,%20Aragon,%20Spain.jpg'}\",\n",
       "  'taxon_rank': 'Q7432',\n",
       "  'taxon_name': 'Emberiza hortulana',\n",
       "  'parent_taxon': 'Q614481',\n",
       "  'BirdJPBookDB__data_audio_id': '5_46',\n",
       "  'BirdJPBookDB__data_birdname': 'ズアオホオジロ',\n",
       "  'BirdResearchDB_label01_32k_audio_id': '',\n",
       "  'BirdResearchDB_label01_32k_birdname': '',\n",
       "  'JP': '1',\n",
       "  'Research': '0'}]"
      ]
     },
     "execution_count": 2,
     "metadata": {},
     "output_type": "execute_result"
    }
   ],
   "source": [
    "read_data"
   ]
  },
  {
   "cell_type": "code",
   "execution_count": 7,
   "id": "8a7b5cce",
   "metadata": {},
   "outputs": [],
   "source": [
    "for d in read_data:\n",
    "#     d[\"id\"] = int(d[\"id\"][1:])\n",
    "    d[\"taxon_rank\"] = int(d[\"taxon_rank\"][1:])\n",
    "    d[\"parent_taxon\"] = int(d[\"parent_taxon\"][1:])"
   ]
  },
  {
   "cell_type": "code",
   "execution_count": 8,
   "id": "b21e50e9",
   "metadata": {},
   "outputs": [
    {
     "data": {
      "text/plain": [
       "[{'id': 208335,\n",
       "  'en_name': 'Red Phalarope',\n",
       "  'ja_name': 'ハイイロヒレアシシギ',\n",
       "  'en_aliases': \"{'0': 'Red Phalarope', '1': 'Grey Phalarope'}\",\n",
       "  'ja_aliases': '{}',\n",
       "  'img_urls': \"{'0': 'https://www.wikidata.org/wiki/Q208335#/media/File:Phalaropus%20fulicarius%2010.jpg', '1': 'https://www.wikidata.org/wiki/Q208335#/media/File:Grey%20Phalarope.jpg'}\",\n",
       "  'taxon_rank': 7432,\n",
       "  'taxon_name': 'Phalaropus fulicarius',\n",
       "  'parent_taxon': 253776,\n",
       "  'BirdJPBookDB__data_audio_id': '2_72',\n",
       "  'BirdJPBookDB__data_birdname': 'ハイイロヒレアシシギ',\n",
       "  'BirdResearchDB_label01_32k_audio_id': '',\n",
       "  'BirdResearchDB_label01_32k_birdname': '',\n",
       "  'JP': '1',\n",
       "  'Research': '0'},\n",
       " {'id': 206630,\n",
       "  'en_name': 'Ortolan Bunting',\n",
       "  'ja_name': 'ズアオホオジロ',\n",
       "  'en_aliases': \"{'0': 'Emberiza hortulana', '1': 'Ortolan Bunting'}\",\n",
       "  'ja_aliases': '{}',\n",
       "  'img_urls': \"{'0': 'https://www.wikidata.org/wiki/Q206630#/media/File:Ortolan%20bunting%20in%20Sierra%20de%20Guara,%20Aragon,%20Spain.jpg'}\",\n",
       "  'taxon_rank': 7432,\n",
       "  'taxon_name': 'Emberiza hortulana',\n",
       "  'parent_taxon': 614481,\n",
       "  'BirdJPBookDB__data_audio_id': '5_46',\n",
       "  'BirdJPBookDB__data_birdname': 'ズアオホオジロ',\n",
       "  'BirdResearchDB_label01_32k_audio_id': '',\n",
       "  'BirdResearchDB_label01_32k_birdname': '',\n",
       "  'JP': '1',\n",
       "  'Research': '0'}]"
      ]
     },
     "execution_count": 8,
     "metadata": {},
     "output_type": "execute_result"
    }
   ],
   "source": [
    "read_data"
   ]
  },
  {
   "cell_type": "code",
   "execution_count": 9,
   "id": "d226ca42",
   "metadata": {},
   "outputs": [],
   "source": [
    "def dict_to_tsv(data, file_path):\n",
    "    keys = data[0].keys()\n",
    "    with open(file_path, 'w', newline='', encoding='utf-8') as tsv_file:\n",
    "        writer = csv.DictWriter(tsv_file, delimiter='\\t', fieldnames=keys)\n",
    "        writer.writeheader()\n",
    "        writer.writerows(data)"
   ]
  },
  {
   "cell_type": "code",
   "execution_count": 10,
   "id": "f701b18a",
   "metadata": {},
   "outputs": [],
   "source": [
    "dict_to_tsv(read_data, 'output.tsv')"
   ]
  },
  {
   "cell_type": "code",
   "execution_count": null,
   "id": "52956031",
   "metadata": {},
   "outputs": [],
   "source": []
  }
 ],
 "metadata": {
  "kernelspec": {
   "display_name": "Python 3",
   "language": "python",
   "name": "python3"
  },
  "language_info": {
   "codemirror_mode": {
    "name": "ipython",
    "version": 3
   },
   "file_extension": ".py",
   "mimetype": "text/x-python",
   "name": "python",
   "nbconvert_exporter": "python",
   "pygments_lexer": "ipython3",
   "version": "3.9.0"
  }
 },
 "nbformat": 4,
 "nbformat_minor": 5
}
